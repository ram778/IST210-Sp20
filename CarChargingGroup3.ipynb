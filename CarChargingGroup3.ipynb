{
  "nbformat": 4,
  "nbformat_minor": 0,
  "metadata": {
    "colab": {
      "name": "CarChargingGroup3.ipynb",
      "provenance": [],
      "collapsed_sections": [],
      "authorship_tag": "ABX9TyM4/0oyYDtd/c9FdjU7WWBY",
      "include_colab_link": true
    },
    "kernelspec": {
      "name": "python3",
      "display_name": "Python 3"
    }
  },
  "cells": [
    {
      "cell_type": "markdown",
      "metadata": {
        "id": "view-in-github",
        "colab_type": "text"
      },
      "source": [
        "<a href=\"https://colab.research.google.com/github/ram778/IST210-Sp20/blob/master/CarChargingGroup3.ipynb\" target=\"_parent\"><img src=\"https://colab.research.google.com/assets/colab-badge.svg\" alt=\"Open In Colab\"/></a>"
      ]
    },
    {
      "cell_type": "markdown",
      "metadata": {
        "id": "1dwSP4r2neWU",
        "colab_type": "text"
      },
      "source": [
        "##Car Charging Project\n",
        "###Group 3: Ryan, TJ, Victor\n"
      ]
    },
    {
      "cell_type": "markdown",
      "metadata": {
        "id": "Xz-dmOZ5nC1s",
        "colab_type": "text"
      },
      "source": [
        "![alt text](https://raw.githubusercontent.com/ram778/IST210-Sp20/master/Lab%201/CarChargingGroup2Project.png)"
      ]
    },
    {
      "cell_type": "markdown",
      "metadata": {
        "id": "Cs7dhwS-nISp",
        "colab_type": "text"
      },
      "source": [
        "Due to the increasing popularity of electric / battery powered transportation, we believe a database of electric car charging stations would be critical for enabling people to utilize the chargers available to them. Our database would be implemented at the manufacturer level with the goal of increasing efficiency in charging batteries of users’ cars, but looks to the standards set forth by multiple electric car manufacturers to increase its effectiveness. "
      ]
    },
    {
      "cell_type": "markdown",
      "metadata": {
        "id": "EocVvBQ5nNWB",
        "colab_type": "text"
      },
      "source": [
        "Our database has two key entity groups. First, since most manufacturers of electric cars use tens to thousands of standard 18650 cells, (primarily Tesla) we track each of the cells in the cars individually. Balancing the charging and discharging of each of these cells is important to limit degradation and reduce fire risk from overcharging. We then encapsulate a group of cells into a battery, which has a serial number, minimum and maximum operating temperatures and chemistry. These batteries are then included in a car, where more typical car attributes like make, model and year are also tracked. "
      ]
    },
    {
      "cell_type": "markdown",
      "metadata": {
        "id": "WQ_a_5i2nQBN",
        "colab_type": "text"
      },
      "source": [
        "Our other key entity group relates to the charging infrastructure. Here, the most basic entity is the charger (the box with the plugs on it). These chargers store information about their charging standards, costs to charge and maximum & minimum charging speed in watts. A group of chargers is then called a charging station, which stores information about the number of chargers, an address, and a latitude / longitude. "
      ]
    },
    {
      "cell_type": "markdown",
      "metadata": {
        "id": "s1EHlnG2nTdm",
        "colab_type": "text"
      },
      "source": [
        "These groups are then linked together by the transaction table, which uses foreign keys from the car, charger, station and user entities as well as payment method and time of the transaction. This table is the only live table in our database. "
      ]
    }
  ]
}