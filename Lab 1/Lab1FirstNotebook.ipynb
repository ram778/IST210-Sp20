{
  "nbformat": 4,
  "nbformat_minor": 0,
  "metadata": {
    "colab": {
      "name": "Lab1FirstNotebook.ipynb",
      "provenance": [],
      "authorship_tag": "ABX9TyO4M8g0wdPgIY1U+FXfP9Mj",
      "include_colab_link": true
    },
    "kernelspec": {
      "name": "python3",
      "display_name": "Python 3"
    }
  },
  "cells": [
    {
      "cell_type": "markdown",
      "metadata": {
        "id": "view-in-github",
        "colab_type": "text"
      },
      "source": [
        "<a href=\"https://colab.research.google.com/github/ram778/IST210-Sp20/blob/master/Lab%201/Lab1FirstNotebook.ipynb\" target=\"_parent\"><img src=\"https://colab.research.google.com/assets/colab-badge.svg\" alt=\"Open In Colab\"/></a>"
      ]
    },
    {
      "cell_type": "markdown",
      "metadata": {
        "id": "JhB_J0wgFLFA",
        "colab_type": "text"
      },
      "source": [
        "# Ryan Anton McGlynn\n",
        "\n",
        "## My interests are in graphic desgin, UX, UI, and technology consulting. \n",
        "\n",
        "### I plan to have a future career in a large tech company (Apple, Microsoft, Google, Amazon) or build my own business.\n",
        "\n",
        "![alt text](https://raw.githubusercontent.com/ram778/IST210-Sp20/master/IMG_5082.jpeg)"
      ]
    }
  ]
}