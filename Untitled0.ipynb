{
  "nbformat": 4,
  "nbformat_minor": 0,
  "metadata": {
    "colab": {
      "name": "Untitled0.ipynb",
      "provenance": [],
      "authorship_tag": "ABX9TyPJ+YB2+dXOqRDwO/abtTyJ",
      "include_colab_link": true
    },
    "kernelspec": {
      "name": "python3",
      "display_name": "Python 3"
    }
  },
  "cells": [
    {
      "cell_type": "markdown",
      "metadata": {
        "id": "view-in-github",
        "colab_type": "text"
      },
      "source": [
        "<a href=\"https://colab.research.google.com/github/ram778/IST210-Sp20/blob/master/Untitled0.ipynb\" target=\"_parent\"><img src=\"https://colab.research.google.com/assets/colab-badge.svg\" alt=\"Open In Colab\"/></a>"
      ]
    },
    {
      "cell_type": "markdown",
      "metadata": {
        "id": "mNT4971n5LXI",
        "colab_type": "text"
      },
      "source": [
        "My ER diagram represents a possible database for a pet shop. My entities are the highlighted terms that help organize the business. The entities are Customer, Order, Pets, Enclosures, Transactions, Food. For each entity, there is a primary key that corresponds to it, allowing for easy retrieval of information. The PK for Customer is loyaltyID, this represents the number assigned to each customer when they shop. The PK for Order is orderNum, I chose this because it counts the amount of orders and allows for easy access when looking for a specific order. The PK for Pets is petID. This is similar to customers but the ID for pets is basically their tag or number associated with them. The enclosures PK is serialNum and this was chosen because most products contain a serial number that is like an ID for that product. Transactions PK is transactionNum, again similar to order PK. The PK for food is foodID which holds basic information, for example, what type of food is it. The relationships are strong between the entities labeled. The first relationship is between customer and order, there is one order per customer and one customer per order. The second relationship is between pets and enclosures. There is one pet per enclosure and one enclosure per multiple pets. The third relationship is between transactions and order. It is one transaction per order and one order per multiple transactions. The last relationship is between food and transactions. The relationship is one transaction per one food and one food per multiple transactions. I chose to layout the diagram this way because there are far more relationships that can be expressed between these entities and it allows for easy removal or addition to the current one.  \n",
        "\n",
        "![alt text](https://raw.githubusercontent.com/ram778/IST210-Sp20/master/Lab2_PetERDiagram.png)"
      ]
    }
  ]
}