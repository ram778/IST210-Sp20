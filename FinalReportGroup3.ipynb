{
  "nbformat": 4,
  "nbformat_minor": 0,
  "metadata": {
    "colab": {
      "name": "FinalReportGroup3.ipynb",
      "provenance": [],
      "collapsed_sections": [],
      "include_colab_link": true
    },
    "kernelspec": {
      "name": "python3",
      "display_name": "Python 3"
    }
  },
  "cells": [
    {
      "cell_type": "markdown",
      "metadata": {
        "id": "view-in-github",
        "colab_type": "text"
      },
      "source": [
        "<a href=\"https://colab.research.google.com/github/ram778/IST210-Sp20/blob/master/FinalReportGroup3.ipynb\" target=\"_parent\"><img src=\"https://colab.research.google.com/assets/colab-badge.svg\" alt=\"Open In Colab\"/></a>"
      ]
    },
    {
      "cell_type": "markdown",
      "metadata": {
        "id": "I6OdbBrAlKTX",
        "colab_type": "text"
      },
      "source": [
        "##Introduction\n",
        "\n",
        "Our final report shows the development of our Car Charging database from earlier projects to the current. We chose car charging specifically because we believe this is a time of change to better the world and electric vehicles have become hot on the market today. Car charging can be broken down into different entities, with attributes, and have relationships we thought would be interesting to express in a database. We began this project with simple brainstorm ideas and eventually created our first Entity Relationship Diagram. It was strong in its entities, attributes, and relationships, but struggled with our foreign keys and cardinality. We have updated the car charging ER diagram and now it can be understood by users of the database.  "
      ]
    },
    {
      "cell_type": "markdown",
      "metadata": {
        "id": "mwSmbkgQlP8v",
        "colab_type": "text"
      },
      "source": [
        "![alt text](https://raw.githubusercontent.com/ram778/IST210-Sp20/master/CarChargingGroup2Project.png)"
      ]
    },
    {
      "cell_type": "markdown",
      "metadata": {
        "id": "Dcmi0n21llzh",
        "colab_type": "text"
      },
      "source": [
        "## About diagram \n",
        "\n",
        "Our diagram is broken down into 6 different entities, those being Customer, Car, Battery, Chargers, Station, and Purchase. The customer entity has a primary key called customerID. The attributes associated with customer are first and last name, email, and carID. There is a one too many cardinality when looking at the relationship between customer and car. The car entity has a primary key called car serial number. The attributes associated with car are make, model, year, batterySN, and chargingStandard. The cardinality between car and battery is one to one because a single car contains a single battery. The battery entity has a primary key called batterySN. This makes identifying certain battery types more efficiently. The attributes associated with battery are maxOperating temp, minOperating temp, chargingVoltage, chargingCurrent, batteryCapacity, and batteryChemistry. The chargers entity has a primary key called chargerID. These represent each individual charging cords for cars. The attributes associated with chargers are power, availability, stationID, costPerKilowatt, costPerMinute. The station entity has a primary key called stationID. This represents a collection of chargers. The cardinality between station and chargers is one too many because one station operates multiple chargers. The attributes associated with station is latitude, longitude, numChargers, address. Finally our last entity is purchase. The primary key in this entity is purchaseNum. This represents each time a user pays to charger their car at a station. The attributes associated with purchase are cost and time charging, including foreign keys carSN, stationID, and chargerID. the relationship between purchase and charger is one to one because one purchase facilitates one charger. "
      ]
    },
    {
      "cell_type": "markdown",
      "metadata": {
        "id": "wSFeFKJ3ltT-",
        "colab_type": "text"
      },
      "source": [
        "##Provide all code to create and populate your database. "
      ]
    },
    {
      "cell_type": "code",
      "metadata": {
        "id": "EtbAy0aSe8bL",
        "colab_type": "code",
        "outputId": "3171fdf0-4d15-40bb-d5d3-842cf3427c40",
        "colab": {
          "base_uri": "https://localhost:8080/",
          "height": 73
        }
      },
      "source": [
        "%load_ext sql\n",
        "%sql sqlite:///groupproject.db"
      ],
      "execution_count": 0,
      "outputs": [
        {
          "output_type": "stream",
          "text": [
            "The sql extension is already loaded. To reload it, use:\n",
            "  %reload_ext sql\n"
          ],
          "name": "stdout"
        },
        {
          "output_type": "execute_result",
          "data": {
            "text/plain": [
              "'Connected: @groupproject.db'"
            ]
          },
          "metadata": {
            "tags": []
          },
          "execution_count": 79
        }
      ]
    },
    {
      "cell_type": "code",
      "metadata": {
        "id": "3VuCSQzslw7O",
        "colab_type": "code",
        "outputId": "d9d0dff4-588d-43b6-9e6d-72d58b152c97",
        "colab": {
          "base_uri": "https://localhost:8080/",
          "height": 1000
        }
      },
      "source": [
        "%%sql\n",
        "DROP TABLE IF EXISTS Battery; DROP TABLE IF EXISTS Car; DROP TABLE IF EXISTS Charger; DROP TABLE IF EXISTS Customer; DROP TABLE IF EXISTS Purchase; DROP TABLE IF EXISTS Station;\n",
        "\n",
        "create table Battery (batterySN text primary key, maxOperatingTempinC int, minOperatingTempinC int, maxChargingVoltage int, maxChargingCurrent int, batteryCapacityinKwH int, batteryChemisty text);\n",
        "create table Car (carSN text primary key, year int, model text, batterySN text, chargingStandardLevel int);\n",
        "create table Charger (chargerID text primary key, power int, isAvailable int, stationID text, costPerKilowatt int, costPerMinute int, maxChargingLevel);\n",
        "create table Customer (customerID text primary key, firstName text, lastName text, email text, carID text);\n",
        "create table Purchase (transactionNum text primary key, customerID text, carSN text, cost int, minutesCharging int, stationID text, chargerID text);\n",
        "create table Station (stationID text primary key, latitude int, longitude int, numChargers int, address text);\n",
        "\n",
        "insert into Battery values ('201404272', 50, -20, 480, 312, 100, 'liion');\n",
        "insert into Battery values ('201605131', 60, -20, 480, 312, 100, 'liion');\n",
        "insert into Battery values ('201704015', 60, -20, 480, 312, 75, 'liion');\n",
        "insert into Battery values ('201912223', 60, -20, 480, 312, 75, 'liion');\n",
        "insert into Battery values ('201804067', 50, -20, 480, 312, 100, 'liion');\n",
        "insert into Battery values ('202010152', 50, -20, 480, 312, 100, 'liion');\n",
        "insert into Battery values ('201809251', 60, -20, 480, 312, 75, 'liion');\n",
        "insert into Battery values ('201708037', 50, -20, 480, 312, 100, 'liion');\n",
        "insert into Battery values ('201406283', 50, -20, 480, 312, 75, 'liion');\n",
        "insert into Battery values ('201502219', 50, -20, 480, 312, 100, 'liion');\n",
        "\n",
        "insert into Car values ('h38f9d63414d7nb3s', 2014, 'Model 3', 202004271, 2);\n",
        "insert into Car values ('f274jd95jf7am57sh', 2016, 'Model S', 202004271, 3);\n",
        "insert into Car values ('a84hd7s62mf7g9sh5', 2017, 'Model X', 202004271, 4);\n",
        "insert into Car values ('x83mg9ajff73kgm32', 2019, 'Model S', 202004271, 3);\n",
        "insert into Car values ('29fhd8sk3847fbeyc', 2018, 'Model 3', 202004271, 2);\n",
        "insert into Car values ('vmsk58fhsj37dhf92', 2020, 'Model Y', 202004271, 1);\n",
        "insert into Car values ('ms2maj47fhs946h76', 2018, 'Model X', 202004271, 4);\n",
        "insert into Car values ('48cngudoqmdhe73kt', 2017, 'Model Y', 202004271, 1);\n",
        "insert into Car values ('83mc74cm3957fhsna', 2014, 'Model 3', 202004271, 2);\n",
        "insert into Car values ('m47fhd9shf476mvh2', 2015, 'Model Y', 202004271, 1);\n",
        "\n",
        "insert into Charger values ('1A', 150, 1, 'USI80A', 14, 100, 2);\n",
        "insert into Charger values ('1B', 100, 0, 'USI70A', 13, 75, 1);\n",
        "insert into Charger values ('2A', 100, 0, 'USI80B', 14, 100, 2);\n",
        "insert into Charger values ('2B', 85, 1, 'USI80C', 12, 100, 2);\n",
        "insert into Charger values ('1C', 75, 0, 'USI80D', 16, 125, 3);\n",
        "insert into Charger values ('2C', 125, 1, 'USI80D', 14, 85, 3);\n",
        "insert into Charger values ('3A', 150, 1, 'USI80F', 11, 100, 2);\n",
        "insert into Charger values ('1D', 125, 1, 'USI80G', 14, 100, 3);\n",
        "insert into Charger values ('2E', 100, 0, 'USI80H', 10, 95, 2);\n",
        "insert into Charger values ('1F', 150, 0, 'USI80I', 15, 100, 3);\n",
        "\n",
        "insert into Customer values (23852020427, 'Mike', 'Rufus', 'mrufus@live.com', 'h38f9d63414d7nb3s');\n",
        "insert into Customer values (18322020427, 'Terry', 'Sayer', 'tsayer@gmail.com', 'f274jd95jf7am57sh');\n",
        "insert into Customer values (27512020427, 'Tom', 'Project', 'tproject@gmail.com', 'a84hd7s62mf7g9sh5');\n",
        "insert into Customer values (93672020427, 'Tim', 'Cook', 'tcook@outlook.com', 'x83mg9ajff73kgm32');\n",
        "insert into Customer values (28472020427, 'John', 'Appleseed', 'jappleseed@msn.com', '29fhd8sk3847fbeyc');\n",
        "insert into Customer values (12232020427, 'Elon', 'Musk', 'emusk@yahoo.com', 'vmsk58fhsj37dhf92');\n",
        "insert into Customer values (73452020427, 'James', 'Finner', 'jmf5219@psu.edu', 'ms2maj47fhs946h76');\n",
        "insert into Customer values (06652020427, 'Alexa', 'Tapiolo', 'atapiolo@live.com', '48cngudoqmdhe73kt');\n",
        "insert into Customer values (47562020427, 'Veronica', 'Paster', 'vpaster@gmail.com', '83mc74cm3957fhsna');\n",
        "insert into Customer values (14232020427, 'Sarah', 'Lange', 'slange@hotmail.com', 'm47fhd9shf476mvh2');\n",
        "\n",
        "insert into Purchase values (201809251, 93672020427, 'h38f9d63414d7nb3s', 30, 30, 'USI80A', '1A');\n",
        "insert into Purchase values (201809252, 47562020427, 'f274jd95jf7am57sh', 48.75, 65, 'USI70D', '1B');\n",
        "insert into Purchase values (201809253, 47562020427, 'a84hd7s62mf7g9sh5', 27, 27, 'USI80B', '2A');\n",
        "insert into Purchase values (201809254, 27512020427, 'x83mg9ajff73kgm32', 26, 26, 'USI80C', '2B');\n",
        "insert into Purchase values (201809255, 23852020427, '29fhd8sk3847fbeyc', 47.5, 38, 'USI80D', '1C');\n",
        "insert into Purchase values (201809256, 28472020427, 'vmsk58fhsj37dhf92', 48.45, 57, 'USI80D', '2C');\n",
        "insert into Purchase values (201809257, 14232020427, 'ms2maj47fhs946h76', 44, 44, 'USI80F', '3A');\n",
        "insert into Purchase values (201809258, 27512020427, '48cngudoqmdhe73kt', 15, 15, 'USI80D', '1D');\n",
        "insert into Purchase values (201809259, 14232020427, '83mc74cm3957fhsna', 57, 60, 'USI80H', '2E');\n",
        "insert into Purchase values (201809250, 27512020427, 'm47fhd9shf476mvh2', 25, 25, 'USI80I', '1A');\n",
        "\n",
        "insert into Station values ('USI80A', 40.515790, -78.376340, 10, 'Pleasant Valley Boulevard, Altoona, PA');\n",
        "insert into Station values ('USI70A', 40.037870, -79.075290, 2, 'North Center Avenue, Somerset, PA');\n",
        "insert into Station values ('USI80B', 39.623780, -79.937540, 4, 'Asturias Lane, Morgantown, WV');\n",
        "insert into Station values ('USI80C', 40.060930, -80.602660, 8, 'Bob Wise Drive, Triadelphia, WV');\n",
        "insert into Station values ('USI70D', 40.542520, -80.006160, 12, 'Ross Park Mall Dr, Pittsburgh, PA');\n",
        "insert into Station values ('USI80D', 40.741895, -73.989308, 20, 'Down Drive, Erie, PA');\n",
        "insert into Station values ('USI80F', 39.578395, -80.602660, 30, 'Maynard Street, Williamsport, PA');\n",
        "insert into Station values ('USI80G', 40.542520, -80.006160, 12, 'Ross Park Mall Dr, Pittsburgh, PA');\n",
        "insert into Station values ('USI80H', 40.547362, -73.284749, 16, 'Wexford Bayne Road, Franklin Park, PA');\n",
        "insert into Station values ('USI80I', 40.515790, -78.376340, 10, 'Pleasant Valley Boulevard, Altoona, PA');"
      ],
      "execution_count": 0,
      "outputs": [
        {
          "output_type": "stream",
          "text": [
            " * sqlite:///groupproject.db\n",
            "Done.\n",
            "Done.\n",
            "Done.\n",
            "Done.\n",
            "Done.\n",
            "Done.\n",
            "Done.\n",
            "Done.\n",
            "Done.\n",
            "Done.\n",
            "Done.\n",
            "Done.\n",
            "1 rows affected.\n",
            "1 rows affected.\n",
            "1 rows affected.\n",
            "1 rows affected.\n",
            "1 rows affected.\n",
            "1 rows affected.\n",
            "1 rows affected.\n",
            "1 rows affected.\n",
            "1 rows affected.\n",
            "1 rows affected.\n",
            "1 rows affected.\n",
            "1 rows affected.\n",
            "1 rows affected.\n",
            "1 rows affected.\n",
            "1 rows affected.\n",
            "1 rows affected.\n",
            "1 rows affected.\n",
            "1 rows affected.\n",
            "1 rows affected.\n",
            "1 rows affected.\n",
            "1 rows affected.\n",
            "1 rows affected.\n",
            "1 rows affected.\n",
            "1 rows affected.\n",
            "1 rows affected.\n",
            "1 rows affected.\n",
            "1 rows affected.\n",
            "1 rows affected.\n",
            "1 rows affected.\n",
            "1 rows affected.\n",
            "1 rows affected.\n",
            "1 rows affected.\n",
            "1 rows affected.\n",
            "1 rows affected.\n",
            "1 rows affected.\n",
            "1 rows affected.\n",
            "1 rows affected.\n",
            "1 rows affected.\n",
            "1 rows affected.\n",
            "1 rows affected.\n",
            "1 rows affected.\n",
            "1 rows affected.\n",
            "1 rows affected.\n",
            "1 rows affected.\n",
            "1 rows affected.\n",
            "1 rows affected.\n",
            "1 rows affected.\n",
            "1 rows affected.\n",
            "1 rows affected.\n",
            "1 rows affected.\n",
            "1 rows affected.\n",
            "1 rows affected.\n",
            "1 rows affected.\n",
            "1 rows affected.\n",
            "1 rows affected.\n",
            "1 rows affected.\n",
            "1 rows affected.\n",
            "1 rows affected.\n",
            "1 rows affected.\n",
            "1 rows affected.\n"
          ],
          "name": "stdout"
        },
        {
          "output_type": "execute_result",
          "data": {
            "text/plain": [
              "[]"
            ]
          },
          "metadata": {
            "tags": []
          },
          "execution_count": 80
        }
      ]
    },
    {
      "cell_type": "markdown",
      "metadata": {
        "id": "AO9NLI04lxUw",
        "colab_type": "text"
      },
      "source": [
        "##Scenario\n",
        "Tom is a young guy who has just purchased a Tesla model S. He thinks electric vehicles are the future and wants to be environmentally conscious. He lives in an apartment complex and parks his car in the garage. Since he could not install a charging plug in his building's garage, he has to take his Tesla to the nearest charging station to juice up his model S. It is as simple as parking next to a charger, pluging it into the cars outlet, sit back and wait for the battery to fill. Tom is able to fully power up his battery and is charged just like he would be at a gas station.  "
      ]
    },
    {
      "cell_type": "markdown",
      "metadata": {
        "id": "i4s9kJ7akFqA",
        "colab_type": "text"
      },
      "source": [
        "###Query 1: Find all stations in a specified latitude / longitude box with an available charger"
      ]
    },
    {
      "cell_type": "code",
      "metadata": {
        "id": "SFXYuvrEjsNP",
        "colab_type": "code",
        "outputId": "4076db1c-a669-4504-cdbc-a5ed223d4031",
        "colab": {
          "base_uri": "https://localhost:8080/",
          "height": 99
        }
      },
      "source": [
        "%%sql\n",
        "select s.stationID, s.address, c.chargerID from Station s, Charger c where s.stationID = c.stationID and s.latitude > 40 and s.latitude < 41 and s.longitude < -72 and s.longitude > -74 and c.isAvailable = 1;"
      ],
      "execution_count": 0,
      "outputs": [
        {
          "output_type": "stream",
          "text": [
            " * sqlite:///groupproject.db\n",
            "Done.\n"
          ],
          "name": "stdout"
        },
        {
          "output_type": "execute_result",
          "data": {
            "text/html": [
              "<table>\n",
              "    <tr>\n",
              "        <th>stationID</th>\n",
              "        <th>address</th>\n",
              "        <th>chargerID</th>\n",
              "    </tr>\n",
              "    <tr>\n",
              "        <td>USI80D</td>\n",
              "        <td>Down Drive, Erie, PA</td>\n",
              "        <td>2C</td>\n",
              "    </tr>\n",
              "</table>"
            ],
            "text/plain": [
              "[('USI80D', 'Down Drive, Erie, PA', '2C')]"
            ]
          },
          "metadata": {
            "tags": []
          },
          "execution_count": 81
        }
      ]
    },
    {
      "cell_type": "markdown",
      "metadata": {
        "id": "voOiLGwn8KIu",
        "colab_type": "text"
      },
      "source": [
        "###Query 2: Count the distinct users that charged their cars at a specific station (to analyze usage across the network and determine where hotspots of usage are"
      ]
    },
    {
      "cell_type": "code",
      "metadata": {
        "id": "2hpKvSE1Ay8G",
        "colab_type": "code",
        "outputId": "de158a68-b3a5-4d0e-95eb-8acd5fb126a4",
        "colab": {
          "base_uri": "https://localhost:8080/",
          "height": 99
        }
      },
      "source": [
        "%%sql\n",
        "select count(distinct(p.customerID)) from Purchase P, Station S where p.stationID = s.stationID and p.stationID like '%80D';"
      ],
      "execution_count": 0,
      "outputs": [
        {
          "output_type": "stream",
          "text": [
            " * sqlite:///groupproject.db\n",
            "Done.\n"
          ],
          "name": "stdout"
        },
        {
          "output_type": "execute_result",
          "data": {
            "text/html": [
              "<table>\n",
              "    <tr>\n",
              "        <th>count(distinct(p.customerID))</th>\n",
              "    </tr>\n",
              "    <tr>\n",
              "        <td>3</td>\n",
              "    </tr>\n",
              "</table>"
            ],
            "text/plain": [
              "[(3,)]"
            ]
          },
          "metadata": {
            "tags": []
          },
          "execution_count": 82
        }
      ]
    },
    {
      "cell_type": "markdown",
      "metadata": {
        "id": "SFUmdq5p_vdU",
        "colab_type": "text"
      },
      "source": [
        "###Query 3: Find the names and email addresses of all users who made a purchase between $50 and $100 so they can recieve an email rebate"
      ]
    },
    {
      "cell_type": "code",
      "metadata": {
        "id": "qyfqbn8O_vpd",
        "colab_type": "code",
        "outputId": "e8bcde05-acef-4f30-b4bf-0f39af2c8bb2",
        "colab": {
          "base_uri": "https://localhost:8080/",
          "height": 99
        }
      },
      "source": [
        "%%sql\n",
        "select c.firstName, c.lastName, c.email from Customer c, Purchase p where c.CustomerID = p.customerID and p.cost between 50 and 100;"
      ],
      "execution_count": 0,
      "outputs": [
        {
          "output_type": "stream",
          "text": [
            " * sqlite:///groupproject.db\n",
            "Done.\n"
          ],
          "name": "stdout"
        },
        {
          "output_type": "execute_result",
          "data": {
            "text/html": [
              "<table>\n",
              "    <tr>\n",
              "        <th>firstName</th>\n",
              "        <th>lastName</th>\n",
              "        <th>email</th>\n",
              "    </tr>\n",
              "    <tr>\n",
              "        <td>Sarah</td>\n",
              "        <td>Lange</td>\n",
              "        <td>slange@hotmail.com</td>\n",
              "    </tr>\n",
              "</table>"
            ],
            "text/plain": [
              "[('Sarah', 'Lange', 'slange@hotmail.com')]"
            ]
          },
          "metadata": {
            "tags": []
          },
          "execution_count": 85
        }
      ]
    }
  ]
}