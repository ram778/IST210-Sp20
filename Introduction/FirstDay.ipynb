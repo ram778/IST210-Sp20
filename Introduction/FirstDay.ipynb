{
  "nbformat": 4,
  "nbformat_minor": 0,
  "metadata": {
    "colab": {
      "name": "FirstDay.ipynb",
      "provenance": [],
      "authorship_tag": "ABX9TyOqWn+BA8rZd+5o/Y95U0Uf",
      "include_colab_link": true
    },
    "kernelspec": {
      "name": "python3",
      "display_name": "Python 3"
    }
  },
  "cells": [
    {
      "cell_type": "markdown",
      "metadata": {
        "id": "view-in-github",
        "colab_type": "text"
      },
      "source": [
        "<a href=\"https://colab.research.google.com/github/ram778/IST210-Sp20/blob/master/Introduction/FirstDay.ipynb\" target=\"_parent\"><img src=\"https://colab.research.google.com/assets/colab-badge.svg\" alt=\"Open In Colab\"/></a>"
      ]
    },
    {
      "cell_type": "code",
      "metadata": {
        "id": "tRNdO3ddzK5d",
        "colab_type": "code",
        "colab": {
          "base_uri": "https://localhost:8080/",
          "height": 34
        },
        "outputId": "48472585-5ad6-4afb-90de-86ec7700ff5c"
      },
      "source": [
        "2+2"
      ],
      "execution_count": 1,
      "outputs": [
        {
          "output_type": "execute_result",
          "data": {
            "text/plain": [
              "4"
            ]
          },
          "metadata": {
            "tags": []
          },
          "execution_count": 1
        }
      ]
    },
    {
      "cell_type": "markdown",
      "metadata": {
        "id": "uO1I7DFu0AG9",
        "colab_type": "text"
      },
      "source": [
        "This is my first notebook. this is **bold**\n"
      ]
    },
    {
      "cell_type": "code",
      "metadata": {
        "id": "MVHqJLlRzweG",
        "colab_type": "code",
        "colab": {
          "base_uri": "https://localhost:8080/",
          "height": 34
        },
        "outputId": "aa6ecd46-3de2-4a9d-a940-7ce3eae7fbee"
      },
      "source": [
        "2+3"
      ],
      "execution_count": 2,
      "outputs": [
        {
          "output_type": "execute_result",
          "data": {
            "text/plain": [
              "5"
            ]
          },
          "metadata": {
            "tags": []
          },
          "execution_count": 2
        }
      ]
    },
    {
      "cell_type": "markdown",
      "metadata": {
        "id": "79XmSsx_0mTu",
        "colab_type": "text"
      },
      "source": [
        "# This is a header\n",
        "## This is header 2\n",
        "### This is header 3"
      ]
    },
    {
      "cell_type": "markdown",
      "metadata": {
        "id": "HPga_iPm4LSq",
        "colab_type": "text"
      },
      "source": [
        "![alt text](https://raw.githubusercontent.com/ram778/IST210-Sp20/master/Introduction/psu%20logo.jpg)"
      ]
    }
  ]
}